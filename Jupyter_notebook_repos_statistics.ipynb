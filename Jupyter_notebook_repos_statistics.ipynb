{
  "nbformat": 4,
  "nbformat_minor": 0,
  "metadata": {
    "colab": {
      "provenance": [],
      "collapsed_sections": []
    },
    "kernelspec": {
      "name": "python3",
      "display_name": "Python 3"
    },
    "language_info": {
      "name": "python"
    }
  },
  "cells": [
    {
      "cell_type": "markdown",
      "source": [
        "# Solution of the test task\n"
      ],
      "metadata": {
        "id": "Hc0_IDCcpoLi"
      }
    },
    {
      "cell_type": "markdown",
      "source": [
        "To find the number of stars and collaborators, I used the jq command. It needs to be downloaded."
      ],
      "metadata": {
        "id": "puNSTP-mpp02"
      }
    },
    {
      "cell_type": "code",
      "execution_count": 61,
      "metadata": {
        "colab": {
          "base_uri": "https://localhost:8080/"
        },
        "id": "vykHctMfoU14",
        "outputId": "000d3ece-37a0-4186-bedd-c1af9423e9d4"
      },
      "outputs": [
        {
          "output_type": "stream",
          "name": "stdout",
          "text": [
            "Reading package lists... Done\n",
            "Building dependency tree       \n",
            "Reading state information... Done\n",
            "jq is already the newest version (1.5+dfsg-2).\n",
            "The following package was automatically installed and is no longer required:\n",
            "  libnvidia-common-460\n",
            "Use 'apt autoremove' to remove it.\n",
            "0 upgraded, 0 newly installed, 0 to remove and 5 not upgraded.\n"
          ]
        }
      ],
      "source": [
        "!apt-get install -y jq"
      ]
    },
    {
      "cell_type": "markdown",
      "source": [
        "For searching the statistics I searched for data on https://api.github.com using the curl command and the jq command to identify the number of objects.\\\n",
        "The script runs through the file `repositories.txt` and for each repository puts the data in `x.txt` and `y.txt`.\\\n",
        "\n",
        "*Restrictions do not allow processing many repositories. Only processed points are included in the graph.*"
      ],
      "metadata": {
        "id": "kzjFJ_tNpgt-"
      }
    },
    {
      "cell_type": "code",
      "source": [
        "%%bash\n",
        "\n",
        "readarray -t repositories <repositories.txt\n",
        "\n",
        "for repository in ${repositories[@]}; do\n",
        "  curl -s \"https://api.github.com/repos/$repository?page=$i&per_page=100\" | jq .stargazers_count >> x.txt\n",
        "  curl -s \"https://api.github.com/repos/$repository/contributors\" | jq length >> y.txt\n",
        "done"
      ],
      "metadata": {
        "id": "2Dwqp35wr8AO"
      },
      "execution_count": 63,
      "outputs": []
    },
    {
      "cell_type": "markdown",
      "source": [
        "Adding data to the plot."
      ],
      "metadata": {
        "id": "3hIr3sbdph9X"
      }
    },
    {
      "cell_type": "code",
      "source": [
        "from matplotlib import pyplot as plt\n",
        "\n",
        "x = []\n",
        "with open('x.txt') as x_file:\n",
        "    for line in x_file:\n",
        "        if line == \"null\\n\":\n",
        "          break\n",
        "        x.append(int(line))\n",
        "y = []\n",
        "with open('y.txt') as y_file:\n",
        "    for line in y_file:\n",
        "        if len(y) == len(x):\n",
        "          break\n",
        "        y.append(int(line))\n",
        " \n",
        "plt.scatter(x, y)\n",
        "\n",
        "plt.xlabel('Stars')\n",
        "plt.ylabel('Contributors')\n",
        "\n",
        "plt.show()"
      ],
      "metadata": {
        "colab": {
          "base_uri": "https://localhost:8080/",
          "height": 279
        },
        "id": "EQQqr5Lbju8h",
        "outputId": "08e3015e-a0aa-4ff1-e51e-009ef48a5ede"
      },
      "execution_count": 65,
      "outputs": [
        {
          "output_type": "display_data",
          "data": {
            "text/plain": [
              "<Figure size 432x288 with 1 Axes>"
            ],
            "image/png": "[encoded data removed]"
          },
          "metadata": {
            "needs_background": "light"
          }
        }
      ]
    }
  ]
}